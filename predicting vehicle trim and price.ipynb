{
  "nbformat": 4,
  "nbformat_minor": 0,
  "metadata": {
    "colab": {
      "provenance": []
    },
    "kernelspec": {
      "name": "python3",
      "display_name": "Python 3"
    },
    "language_info": {
      "name": "python"
    }
  },
  "cells": [
    {
      "cell_type": "code",
      "execution_count": 1,
      "metadata": {
        "colab": {
          "base_uri": "https://localhost:8080/"
        },
        "id": "-DES4mIQFvPw",
        "outputId": "e21c3823-cac6-4dcc-f529-8f9ed713bde7"
      },
      "outputs": [
        {
          "output_type": "stream",
          "name": "stdout",
          "text": [
            "Looking in indexes: https://pypi.org/simple, https://us-python.pkg.dev/colab-wheels/public/simple/\n",
            "Requirement already satisfied: dmba in /usr/local/lib/python3.7/dist-packages (0.1.0)\n",
            "no display found. Using non-interactive Agg backend\n"
          ]
        }
      ],
      "source": [
        "# install required packages\n",
        "!pip install dmba\n",
        "import pandas as pd\n",
        "from sklearn.preprocessing import MinMaxScaler\n",
        "from sklearn.model_selection import train_test_split\n",
        "from sklearn.tree import DecisionTreeClassifier, DecisionTreeRegressor\n",
        "from sklearn.ensemble import RandomForestClassifier, RandomForestRegressor\n",
        "from dmba import classificationSummary, regressionSummary"
      ]
    },
    {
      "cell_type": "code",
      "source": [
        "# read dataset into a pandas dataframe\n",
        "train_df = pd.read_csv('Training_DataSet.csv')\n",
        "test_df = pd.read_csv('Test_Dataset.csv')"
      ],
      "metadata": {
        "id": "zU-xlAy7HNL3"
      },
      "execution_count": 2,
      "outputs": []
    },
    {
      "cell_type": "code",
      "source": [
        "# drop rows with null outcome values and reset index\n",
        "train_df = train_df.dropna(subset=['Vehicle_Trim','Dealer_Listing_Price'])"
      ],
      "metadata": {
        "id": "Lq_DxY1Ig2Qv"
      },
      "execution_count": 3,
      "outputs": []
    },
    {
      "cell_type": "code",
      "source": [
        "# add identifier for rows in each set\n",
        "train_df['Source'] = ['train' for row in train_df.index]\n",
        "test_df['Source'] = ['test' for row in test_df.index]"
      ],
      "metadata": {
        "id": "NIH-gjQ73_UO"
      },
      "execution_count": 4,
      "outputs": []
    },
    {
      "cell_type": "code",
      "source": [
        "# combine the two datasets\n",
        "cars_df = train_df.append(test_df)\n",
        "cars_df = cars_df.reset_index()"
      ],
      "metadata": {
        "id": "7gmRKLYq5RAt"
      },
      "execution_count": 5,
      "outputs": []
    },
    {
      "cell_type": "code",
      "source": [
        "cars_df.info()"
      ],
      "metadata": {
        "colab": {
          "base_uri": "https://localhost:8080/"
        },
        "id": "ym1x3qFqUxEo",
        "outputId": "56667ccb-f739-4155-d23c-8cd51cc001dc"
      },
      "execution_count": 6,
      "outputs": [
        {
          "output_type": "stream",
          "name": "stdout",
          "text": [
            "<class 'pandas.core.frame.DataFrame'>\n",
            "RangeIndex: 6841 entries, 0 to 6840\n",
            "Data columns (total 31 columns):\n",
            " #   Column                Non-Null Count  Dtype  \n",
            "---  ------                --------------  -----  \n",
            " 0   index                 6841 non-null   int64  \n",
            " 1   ListingID             6841 non-null   int64  \n",
            " 2   SellerCity            6841 non-null   object \n",
            " 3   SellerIsPriv          6841 non-null   bool   \n",
            " 4   SellerListSrc         6839 non-null   object \n",
            " 5   SellerName            6841 non-null   object \n",
            " 6   SellerRating          6841 non-null   float64\n",
            " 7   SellerRevCnt          6841 non-null   int64  \n",
            " 8   SellerState           6841 non-null   object \n",
            " 9   SellerZip             6839 non-null   float64\n",
            " 10  VehBodystyle          6841 non-null   object \n",
            " 11  VehCertified          6841 non-null   bool   \n",
            " 12  VehColorExt           6792 non-null   object \n",
            " 13  VehColorInt           6307 non-null   object \n",
            " 14  VehDriveTrain         6709 non-null   object \n",
            " 15  VehEngine             6755 non-null   object \n",
            " 16  VehFeats              6781 non-null   object \n",
            " 17  VehFuel               6839 non-null   object \n",
            " 18  VehHistory            6617 non-null   object \n",
            " 19  VehListdays           6839 non-null   float64\n",
            " 20  VehMake               6841 non-null   object \n",
            " 21  VehMileage            6840 non-null   float64\n",
            " 22  VehModel              6841 non-null   object \n",
            " 23  VehPriceLabel         6570 non-null   object \n",
            " 24  VehSellerNotes        6726 non-null   object \n",
            " 25  VehType               6841 non-null   object \n",
            " 26  VehTransmission       6782 non-null   object \n",
            " 27  VehYear               6841 non-null   int64  \n",
            " 28  Vehicle_Trim          5841 non-null   object \n",
            " 29  Dealer_Listing_Price  5841 non-null   float64\n",
            " 30  Source                6841 non-null   object \n",
            "dtypes: bool(2), float64(5), int64(4), object(20)\n",
            "memory usage: 1.5+ MB\n"
          ]
        }
      ]
    },
    {
      "cell_type": "code",
      "source": [
        "# replace null values\n",
        "cars_df = cars_df.fillna('0')"
      ],
      "metadata": {
        "id": "kRgI2apdUwRi"
      },
      "execution_count": 7,
      "outputs": []
    },
    {
      "cell_type": "code",
      "source": [
        "# check values in VehYear column\n",
        "cars_df['VehYear'].value_counts()"
      ],
      "metadata": {
        "colab": {
          "base_uri": "https://localhost:8080/"
        },
        "id": "MWK6LLlAZ-81",
        "outputId": "aeb14926-1e91-4467-dafc-051876d3b780"
      },
      "execution_count": 8,
      "outputs": [
        {
          "output_type": "execute_result",
          "data": {
            "text/plain": [
              "2018    2248\n",
              "2017    2115\n",
              "2015    1779\n",
              "2016     562\n",
              "2019     137\n",
              "Name: VehYear, dtype: int64"
            ]
          },
          "metadata": {},
          "execution_count": 8
        }
      ]
    },
    {
      "cell_type": "code",
      "source": [
        "# create a new column VehAge based off of VehYear\n",
        "cars_df['VehAge'] = 2020 - cars_df['VehYear']\n",
        "cars_df = cars_df.drop('VehYear', axis = 1)"
      ],
      "metadata": {
        "id": "AZnthuvfafDC"
      },
      "execution_count": 9,
      "outputs": []
    },
    {
      "cell_type": "code",
      "source": [
        "# ensure that quantitative columns are integers\n",
        "cars_df[['SellerRating','SellerRevCnt','VehListdays','VehMileage','VehAge']] = cars_df[['SellerRating','SellerRevCnt','VehListdays','VehMileage','VehAge']].astype(int)"
      ],
      "metadata": {
        "id": "NEhsLQwKi53c"
      },
      "execution_count": 10,
      "outputs": []
    },
    {
      "cell_type": "code",
      "source": [
        "# convert zip column to string since it is not a quantitative variable\n",
        "cars_df['SellerZip'] = cars_df['SellerZip'].astype(str)"
      ],
      "metadata": {
        "id": "-v_XslLLRBv0"
      },
      "execution_count": 11,
      "outputs": []
    },
    {
      "cell_type": "code",
      "source": [
        "# standardize the quantitative data\n",
        "scaler = MinMaxScaler()\n",
        "scaler.fit(cars_df[['SellerRating','SellerRevCnt','VehListdays','VehMileage','VehAge']])"
      ],
      "metadata": {
        "colab": {
          "base_uri": "https://localhost:8080/"
        },
        "id": "PCuXQDvwNQqj",
        "outputId": "2e11be44-51f1-4eaa-a79f-a09f884427c0"
      },
      "execution_count": 12,
      "outputs": [
        {
          "output_type": "execute_result",
          "data": {
            "text/plain": [
              "MinMaxScaler()"
            ]
          },
          "metadata": {},
          "execution_count": 12
        }
      ]
    },
    {
      "cell_type": "code",
      "source": [
        "norm_data = pd.concat([pd.DataFrame(scaler.transform(cars_df[['SellerRating','SellerRevCnt','VehListdays','VehMileage','VehAge']]),\n",
        "                                  columns = ['zSellerRating','zSellerRevCnt','zVehListdays','zVehMileage','zVehAge']),\n",
        "                     cars_df[['SellerCity','SellerIsPriv','SellerListSrc','SellerName','SellerState','SellerZip','VehBodystyle','VehCertified','VehColorExt','VehColorInt','VehDriveTrain','VehEngine','VehFeats','VehFuel','VehHistory','VehMake','VehModel','VehPriceLabel','VehType','VehTransmission','Vehicle_Trim','Dealer_Listing_Price','Source']]], axis = 1)"
      ],
      "metadata": {
        "id": "cGUrwsJMPulj"
      },
      "execution_count": 13,
      "outputs": []
    },
    {
      "cell_type": "markdown",
      "source": [
        "Predict Trim Type"
      ],
      "metadata": {
        "id": "jhS1V2RSn7RS"
      }
    },
    {
      "cell_type": "code",
      "source": [
        "# separate predictors and outcome for trims\n",
        "trim_predictors = ['zSellerRating','zSellerRevCnt','zVehListdays','zVehMileage','zVehAge','SellerCity','SellerIsPriv','SellerListSrc','SellerName','SellerState','SellerZip','VehBodystyle','VehCertified','VehColorExt','VehColorInt','VehDriveTrain','VehEngine','VehFeats','VehFuel','VehHistory','VehMake','VehModel','VehPriceLabel','VehType','VehTransmission']\n",
        "trim_outcome = 'Vehicle_Trim'"
      ],
      "metadata": {
        "id": "Eut3iazWndKm"
      },
      "execution_count": 14,
      "outputs": []
    },
    {
      "cell_type": "code",
      "source": [
        "# get dummy variables for categorical variables\n",
        "predictor_dummies = pd.get_dummies(norm_data[trim_predictors])\n",
        "data = pd.concat([norm_data, predictor_dummies], axis = 1)\n",
        "\n",
        "# split datasets\n",
        "train_data = data.loc[data['Source'] == 'train']\n",
        "train_data = train_data.drop(['SellerCity','SellerIsPriv','SellerListSrc','SellerName','SellerState','SellerZip','VehBodystyle','VehCertified','VehColorExt','VehColorInt','VehDriveTrain','VehEngine','VehFeats','VehFuel','VehHistory','VehMake','VehModel','VehPriceLabel','VehType','VehTransmission','Source'], axis = 1)\n",
        "test_data = data.loc[data['Source'] == 'test']\n",
        "test_data = test_data.drop(['SellerCity','SellerIsPriv','SellerListSrc','SellerName','SellerState','SellerZip','VehBodystyle','VehCertified','VehColorExt','VehColorInt','VehDriveTrain','VehEngine','VehFeats','VehFuel','VehHistory','VehMake','VehModel','VehPriceLabel','VehType','VehTransmission','Source'], axis = 1)"
      ],
      "metadata": {
        "id": "zJWOFMrLElBC"
      },
      "execution_count": 15,
      "outputs": []
    },
    {
      "cell_type": "code",
      "source": [
        "# partition data\n",
        "X = train_data.drop([trim_outcome, 'Dealer_Listing_Price'], axis=1)\n",
        "y = train_data[trim_outcome]\n",
        "X_train, X_valid, y_train, y_valid = train_test_split(X, y, test_size = 0.4, random_state = 1)"
      ],
      "metadata": {
        "id": "NBLEjptPovCW"
      },
      "execution_count": 16,
      "outputs": []
    },
    {
      "cell_type": "code",
      "source": [
        "# run a decision tree model\n",
        "dtc = DecisionTreeClassifier(random_state = 1)\n",
        "dtc.fit(X_train, y_train)"
      ],
      "metadata": {
        "colab": {
          "base_uri": "https://localhost:8080/"
        },
        "id": "YS8vRsolpPwD",
        "outputId": "975b81b3-c6ac-4977-d1b4-56280925a496"
      },
      "execution_count": 17,
      "outputs": [
        {
          "output_type": "execute_result",
          "data": {
            "text/plain": [
              "DecisionTreeClassifier(random_state=1)"
            ]
          },
          "metadata": {},
          "execution_count": 17
        }
      ]
    },
    {
      "cell_type": "code",
      "source": [
        "# evaluate the model\n",
        "classificationSummary(y_valid, dtc.predict(X_valid))"
      ],
      "metadata": {
        "colab": {
          "base_uri": "https://localhost:8080/"
        },
        "id": "6AtosXllqI38",
        "outputId": "37264fe3-e21b-4314-cafe-1b4c2d24717c"
      },
      "execution_count": 18,
      "outputs": [
        {
          "output_type": "stream",
          "name": "stdout",
          "text": [
            "Confusion Matrix (Accuracy 0.8045)\n",
            "\n",
            "       Prediction\n",
            "Actual   0   1   2   3   4   5   6   7   8   9  10  11  12  13  14  15  16  17  18  19  20  21  22  23  24  25  26\n",
            "     0   0   0   2   0   0   0   0   0   0   0   0   0   0   0   0   0   0   0   0   0   0   0   0   0   0   0   0\n",
            "     1   0   0   0   0   0   0   0   0   1   0   0   0   0   0   0   0   0   0   0   0   0   0   0   0   0   0   0\n",
            "     2   2   0  61   0   0   1  48   0  12   1   0   0   0   0   0   0   0   0   0   0   1   0   0   2   1   0   1\n",
            "     3   0   0   0  53   0   0   0   0   0   0   0  14   0   0   0   0   0   4   0   0   0   0   0   0   0   0   0\n",
            "     4   0   0   0   0  19   0   0   0   0   0   0   1   0   2   0   0   0   0   0   1   0   0   0   0   0   0   0\n",
            "     5   0   0   2   0   0   5   2   0   8   0   0   0   0   0  13   0   0   0   0   0   2   0   0   4   0   3   0\n",
            "     6   1   0  36   0   0   3 214   0  36   0   0   0   0   0   3   0   0   0   0   0   0   0   0   1   0   0   0\n",
            "     7   0   0   3   0   0   0   5   8   8   0   0   0   0   0   0   0   0   0   0   0   0   0   0   1   0   0   0\n",
            "     8   2   0  12   0   0   3  15   4 708   1   0   0   0   0   2   0   0   0   0   0   1   0   3   6   0   1   0\n",
            "     9   0   0   0   0   0   0   0   0   1   1   0   0   0   0   0   0   0   0   0   0   0   0   0   0   0   0   0\n",
            "    10   0   0   0   0   0   0   0   0   0   0   0   0   0   0   0   0   0   0   0   0   0   0   0   0   0   1   0\n",
            "    11   0   0   0   1   0   0   0   0   0   0   0 222   0   1   0   1   0  22   0   0   0   0   0   0   0   0   0\n",
            "    12   0   0   0   0   0   0   0   0   0   0   0   0   6   0   0   0   1   1   0   0   0   0   0   0   0   0   0\n",
            "    13   0   0   0   0   3   0   0   0   0   0   0   1   0   9   0   0   0   2   0   1   0   0   0   0   0   0   0\n",
            "    14   0   0   1   0   0   6   0   0   8   0   0   0   0   0 121   0   0   0   0   0   1   0   1   3   0   4   0\n",
            "    15   0   0   0   2   0   0   0   0   0   0   0   6   0   0   0  37   1   2   0   0   0   0   0   0   0   0   0\n",
            "    16   0   0   0   0   0   0   0   0   0   0   0   0   1   0   0   0   2   0   1   0   0   0   0   0   0   0   0\n",
            "    17   0   0   0   4   0   0   0   0   0   0   0  15   0   0   0   0   0 259   0   0   0   0   0   0   0   0   0\n",
            "    18   0   0   0   0   0   0   0   0   0   0   0   0   2   0   0   0   3   0   0   0   0   0   0   0   0   0   0\n",
            "    19   0   0   0   0   1   0   0   0   0   0   0   0   0   5   0   0   0   0   0  11   0   0   0   0   0   0   0\n",
            "    20   0   0   2   0   0   1   1   0   2   0   0   0   0   0   1   0   0   0   0   0  19   2   0   4   0   0   0\n",
            "    21   0   0   0   0   0   0   0   0   0   0   0   0   0   0   0   0   0   0   0   0   0   0   0   0   0   0   0\n",
            "    22   0   0   0   0   0   0   0   1   6   0   0   0   0   0   0   0   0   0   0   0   0   0   2   3   0   0   0\n",
            "    23   0   0   1   0   0   3   0   1  14   0   0   0   0   0   6   0   0   0   0   0   1   0   0  72   0   0   0\n",
            "    24   0   0   0   0   0   0   0   0   2   0   0   0   0   0   0   0   0   0   0   0   0   0   0   0   7   0   0\n",
            "    25   0   0   1   0   0   0   0   5   9   0   0   0   0   0  12   0   0   0   0   0   0   0   0   0   0  44   0\n",
            "    26   0   0   0   0   0   0   0   0   1   0   0   0   0   0   0   0   0   0   0   0   0   0   0   0   0   0   0\n"
          ]
        }
      ]
    },
    {
      "cell_type": "code",
      "source": [
        "# run a random forest model\n",
        "rfc = RandomForestClassifier(random_state = 1)\n",
        "rfc.fit(X_train, y_train)"
      ],
      "metadata": {
        "colab": {
          "base_uri": "https://localhost:8080/"
        },
        "id": "P7XJtqLB1wIz",
        "outputId": "edc85e09-bb7f-4616-cca8-de9ffeed3ff7"
      },
      "execution_count": 19,
      "outputs": [
        {
          "output_type": "execute_result",
          "data": {
            "text/plain": [
              "RandomForestClassifier(random_state=1)"
            ]
          },
          "metadata": {},
          "execution_count": 19
        }
      ]
    },
    {
      "cell_type": "code",
      "source": [
        "# evaluate the model\n",
        "classificationSummary(y_valid, rfc.predict(X_valid))"
      ],
      "metadata": {
        "colab": {
          "base_uri": "https://localhost:8080/"
        },
        "id": "g75MyOHYqScy",
        "outputId": "b4d74ed7-10c7-41c0-8f65-ea6219714a3d"
      },
      "execution_count": 20,
      "outputs": [
        {
          "output_type": "stream",
          "name": "stdout",
          "text": [
            "Confusion Matrix (Accuracy 0.7942)\n",
            "\n",
            "       Prediction\n",
            "Actual   0   1   2   3   4   5   6   7   8   9  10  11  12  13  14  15  16  17  18  19  20  21  22  23  24  25\n",
            "     0   0   0   0   0   0   0   0   0   2   0   0   0   0   0   0   0   0   0   0   0   0   0   0   0   0   0\n",
            "     1   0   0   0   0   0   0   0   0   1   0   0   0   0   0   0   0   0   0   0   0   0   0   0   0   0   0\n",
            "     2   0   0  34   0   0   0  64   1  29   0   0   0   0   0   1   0   0   0   0   0   0   0   1   0   0   0\n",
            "     3   0   0   0  48   1   0   0   0   0   0   0  20   0   0   0   0   0   2   0   0   0   0   0   0   0   0\n",
            "     4   0   0   0   0  21   0   0   0   0   0   0   1   0   1   0   0   0   0   0   0   0   0   0   0   0   0\n",
            "     5   0   0   0   0   0   1   1   0  16   0   0   0   0   0  17   0   0   0   0   0   1   0   1   0   2   0\n",
            "     6   0   0   9   0   0   0 207   1  77   0   0   0   0   0   0   0   0   0   0   0   0   0   0   0   0   0\n",
            "     7   0   0   1   0   0   0   3   8  13   0   0   0   0   0   0   0   0   0   0   0   0   0   0   0   0   0\n",
            "     8   0   0   1   0   0   0   4   0 751   0   0   0   0   0   2   0   0   0   0   0   0   0   0   0   0   0\n",
            "     9   0   0   0   0   0   0   0   0   2   0   0   0   0   0   0   0   0   0   0   0   0   0   0   0   0   0\n",
            "    10   0   0   0   0   0   0   0   0   1   0   0   0   0   0   0   0   0   0   0   0   0   0   0   0   0   0\n",
            "    11   0   0   0   0   0   0   0   0   0   0   0 220   0   0   0   0   0  27   0   0   0   0   0   0   0   0\n",
            "    12   0   0   0   0   0   0   0   0   0   0   0   1   5   0   0   0   0   2   0   0   0   0   0   0   0   0\n",
            "    13   0   0   0   0   2   0   0   0   0   0   0   2   0  10   0   0   0   1   0   1   0   0   0   0   0   0\n",
            "    14   0   0   0   0   0   0   1   0  27   0   0   0   0   0 110   0   0   0   0   0   0   1   0   0   6   0\n",
            "    15   0   0   0   0   0   0   0   0   0   0   0  12   0   0   0  32   0   4   0   0   0   0   0   0   0   0\n",
            "    16   0   0   0   0   0   0   0   0   0   0   0   0   1   0   0   2   1   0   0   0   0   0   0   0   0   0\n",
            "    17   0   0   0   1   0   0   0   0   0   0   0  14   0   0   0   0   0 263   0   0   0   0   0   0   0   0\n",
            "    18   0   0   0   0   1   0   0   0   0   0   0   0   1   0   0   0   1   2   0   0   0   0   0   0   0   0\n",
            "    19   0   0   0   0   0   0   0   0   0   0   0   0   0   4   0   0   0   3   0  10   0   0   0   0   0   0\n",
            "    20   0   0   0   0   0   0   1   0  12   0   0   0   0   0   1   0   0   0   0   0  18   0   0   0   0   0\n",
            "    21   0   0   0   0   0   0   0   0  11   0   0   0   0   0   1   0   0   0   0   0   0   0   0   0   0   0\n",
            "    22   0   0   1   0   0   0   0   0  27   0   0   0   0   0   3   0   0   0   0   0   0   0  67   0   0   0\n",
            "    23   0   0   0   0   0   1   0   0   2   0   0   0   0   0   0   0   0   0   0   0   0   0   0   6   0   0\n",
            "    24   0   0   0   0   0   0   0   0  19   0   0   0   0   0   8   0   0   0   0   0   0   0   0   0  44   0\n",
            "    25   0   0   0   0   0   0   1   0   0   0   0   0   0   0   0   0   0   0   0   0   0   0   0   0   0   0\n"
          ]
        }
      ]
    },
    {
      "cell_type": "code",
      "source": [
        "# # Call the random forest classifier constructor and make the expected list of all the parameters.\n",
        "# rfc = RandomForestClassifier()\n",
        "# parameters = {\n",
        "#   \"n_estimators\":[5,10,50,100,150,200,250],\n",
        "#   \"max_depth\":[2,4,8,16,32,None]\n",
        "# }\n",
        "\n",
        "# # Use the GridSearchCV model selection for cross-validation\n",
        "# from sklearn.model_selection import GridSearchCV\n",
        "# cv = GridSearchCV(rfc,parameters,cv=2)\n",
        "# cv.fit(X_train,y_train)\n",
        "\n",
        "# # Print the best Parameters.\n",
        "# def display(results):\n",
        "#   print(f'Best parameters are: {results.best_params_}')\n",
        "#   print(\"\\n\")\n",
        "#   mean_score = results.cv_results_['mean_test_score']\n",
        "#   std_score = results.cv_results_['std_test_score']\n",
        "#   params = results.cv_results_['params']\n",
        "#   for mean,std,params in zip(mean_score,std_score,params):\n",
        "#     print(f'{round(mean,3)} + or - {round(std,3)} for the {params}')\n",
        "\n",
        "# display(cv)\n"
      ],
      "metadata": {
        "id": "fBIUW7F6-Hhj"
      },
      "execution_count": 21,
      "outputs": []
    },
    {
      "cell_type": "markdown",
      "source": [
        "Predict Dealer Listing Price"
      ],
      "metadata": {
        "id": "d1evAEIznrSf"
      }
    },
    {
      "cell_type": "code",
      "source": [
        "# separate predictors and outcome for price\n",
        "price_predictors = ['zSellerRating','zSellerRevCnt','zVehListdays','zVehMileage','zVehAge','SellerCity','SellerIsPriv','SellerListSrc','SellerName','SellerState','SellerZip','VehBodystyle','VehCertified','VehColorExt','VehColorInt','VehDriveTrain','VehEngine','VehFeats','VehFuel','VehHistory','VehMake','VehModel','VehPriceLabel','VehType','VehTransmission']\n",
        "price_outcome = 'Dealer_Listing_Price'"
      ],
      "metadata": {
        "id": "XECZSqEHV4FK"
      },
      "execution_count": 22,
      "outputs": []
    },
    {
      "cell_type": "code",
      "source": [
        "# partition the data\n",
        "X = train_data.drop([price_outcome, 'Vehicle_Trim'], axis=1)\n",
        "y = train_data[price_outcome]\n",
        "X_train, X_valid, y_train, y_valid = train_test_split(X, y, test_size = 0.4, random_state = 1)"
      ],
      "metadata": {
        "id": "tWh1SaRtjXF5"
      },
      "execution_count": 23,
      "outputs": []
    },
    {
      "cell_type": "code",
      "source": [
        "# run a decision tree model\n",
        "dtr = DecisionTreeRegressor(random_state = 1)\n",
        "dtr.fit(X_train, y_train)"
      ],
      "metadata": {
        "colab": {
          "base_uri": "https://localhost:8080/"
        },
        "id": "9UXjJjS8WpHy",
        "outputId": "dab4f398-6c0c-4d16-ca05-6fc69b354cd5"
      },
      "execution_count": 24,
      "outputs": [
        {
          "output_type": "execute_result",
          "data": {
            "text/plain": [
              "DecisionTreeRegressor(random_state=1)"
            ]
          },
          "metadata": {},
          "execution_count": 24
        }
      ]
    },
    {
      "cell_type": "code",
      "source": [
        "# evaluate the model\n",
        "regressionSummary(y_valid, dtr.predict(X_valid))"
      ],
      "metadata": {
        "colab": {
          "base_uri": "https://localhost:8080/"
        },
        "id": "gTP-k6NOXcku",
        "outputId": "e912e1f0-3ae6-49d5-c94a-adddffa0a19d"
      },
      "execution_count": 25,
      "outputs": [
        {
          "output_type": "stream",
          "name": "stdout",
          "text": [
            "\n",
            "Regression statistics\n",
            "\n",
            "                      Mean Error (ME) : 262.1896\n",
            "       Root Mean Squared Error (RMSE) : 3844.0444\n",
            "            Mean Absolute Error (MAE) : 2374.1964\n",
            "          Mean Percentage Error (MPE) : 0.0655\n",
            "Mean Absolute Percentage Error (MAPE) : 7.2733\n"
          ]
        }
      ]
    },
    {
      "cell_type": "code",
      "source": [
        "# run a random forest model\n",
        "rfr = RandomForestRegressor(random_state = 1)\n",
        "rfr.fit(X_train, y_train)"
      ],
      "metadata": {
        "colab": {
          "base_uri": "https://localhost:8080/"
        },
        "id": "zKD9X8sx_nde",
        "outputId": "789b34b1-22d3-4120-a842-cd76d883ae65"
      },
      "execution_count": 26,
      "outputs": [
        {
          "output_type": "execute_result",
          "data": {
            "text/plain": [
              "RandomForestRegressor(random_state=1)"
            ]
          },
          "metadata": {},
          "execution_count": 26
        }
      ]
    },
    {
      "cell_type": "code",
      "source": [
        "# evaluate the model\n",
        "regressionSummary(y_valid, rfr.predict(X_valid))"
      ],
      "metadata": {
        "colab": {
          "base_uri": "https://localhost:8080/"
        },
        "id": "rNzAlArJBXvJ",
        "outputId": "c969f80c-9309-4449-83fc-33dd423932d0"
      },
      "execution_count": 27,
      "outputs": [
        {
          "output_type": "stream",
          "name": "stdout",
          "text": [
            "\n",
            "Regression statistics\n",
            "\n",
            "                      Mean Error (ME) : 148.4482\n",
            "       Root Mean Squared Error (RMSE) : 3126.2443\n",
            "            Mean Absolute Error (MAE) : 1846.4083\n",
            "          Mean Percentage Error (MPE) : -0.3556\n",
            "Mean Absolute Percentage Error (MAPE) : 5.6268\n"
          ]
        }
      ]
    },
    {
      "cell_type": "code",
      "source": [
        "# prepare test data for predictions\n",
        "X = test_data.drop(['Vehicle_Trim', 'Dealer_Listing_Price'], axis=1)"
      ],
      "metadata": {
        "id": "iNt9_gt7UPsi"
      },
      "execution_count": 28,
      "outputs": []
    },
    {
      "cell_type": "code",
      "source": [
        "# form trim predictions\n",
        "predicted_trim = pd.DataFrame(rfc.predict(X))"
      ],
      "metadata": {
        "id": "b2oJuApeU1vu"
      },
      "execution_count": 29,
      "outputs": []
    },
    {
      "cell_type": "code",
      "source": [
        "# form price predictions\n",
        "predicted_price = pd.DataFrame(rfr.predict(X))"
      ],
      "metadata": {
        "id": "9qV18JqNW1RH"
      },
      "execution_count": 30,
      "outputs": []
    },
    {
      "cell_type": "code",
      "source": [
        "# get the listing ids\n",
        "id_df = pd.DataFrame(test_df['ListingID'])"
      ],
      "metadata": {
        "id": "8ybNtkApdBOq"
      },
      "execution_count": 31,
      "outputs": []
    },
    {
      "cell_type": "code",
      "source": [
        "# combine listing ids with the results of the predictions\n",
        "results_df = pd.concat([id_df, predicted_trim, predicted_price], axis = 1)"
      ],
      "metadata": {
        "id": "RJqkToZUeQw5"
      },
      "execution_count": 32,
      "outputs": []
    },
    {
      "cell_type": "code",
      "source": [
        "# rename the columns\n",
        "results_df.columns =['ListingID', 'Vehicle_Trime', 'Dealer_Listing_Price']"
      ],
      "metadata": {
        "id": "_bID5t6zeSAY"
      },
      "execution_count": 33,
      "outputs": []
    },
    {
      "cell_type": "code",
      "source": [
        "# export to csv\n",
        "results_df.to_csv('daniel_wang.csv')"
      ],
      "metadata": {
        "id": "UeF-BONCfKzf"
      },
      "execution_count": 34,
      "outputs": []
    },
    {
      "cell_type": "code",
      "source": [],
      "metadata": {
        "id": "TqK2mFoDfnnr"
      },
      "execution_count": 34,
      "outputs": []
    }
  ]
}